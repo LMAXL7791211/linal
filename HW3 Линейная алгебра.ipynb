{
 "cells": [
  {
   "cell_type": "code",
   "execution_count": 1,
   "metadata": {},
   "outputs": [],
   "source": [
    "import numpy as np"
   ]
  },
  {
   "cell_type": "markdown",
   "metadata": {
    "colab_type": "text",
    "id": "qyU0wiO2CG2Q"
   },
   "source": [
    "## Практическое задание к вебинару 3 Линейная алгебра"
   ]
  },
  {
   "cell_type": "markdown",
   "metadata": {
    "colab_type": "text",
    "id": "sNOgFRFrCG2S"
   },
   "source": [
    "__1.__ Найти собственные векторы и собственные значения для линейного оператора, заданного матрицей\n",
    "\n",
    "$$A=\\begin{pmatrix}\n",
    "-1 & -6\\\\ \n",
    "2 & 6\n",
    "\\end{pmatrix}.$$\n"
   ]
  },
  {
   "cell_type": "markdown",
   "metadata": {
    "colab_type": "text",
    "id": "rRaN3YpCCG1A"
   },
   "source": [
    "__Решение:__\n",
    "\n",
    "Найдем собственные значения линейного оператора, составив и решив характеристическое уравнение:\n",
    "\n",
    "$$\\begin{vmatrix}\n",
    "-1-\\lambda & -6\\\\ \n",
    "2 & 6-\\lambda\n",
    "\\end{vmatrix} = 0,$$\n",
    "\n",
    "$$(-1-\\lambda)(6-\\lambda)-(-6)\\cdot2=0,$$\n",
    "\n",
    "$$-6+\\lambda-6\\lambda + \\lambda^2+12=0,$$\n",
    "\n",
    "$$\\lambda^2-5\\lambda+6=0,$$\n",
    "\n",
    "$$D=(-5)^2-4\\cdot1\\cdot6=1,$$\n",
    "\n",
    "$$\\lambda=(-(-5)\\pm\\sqrt1)\\div(2\\cdot1)=(3,  2).$$"
   ]
  },
  {
   "cell_type": "markdown",
   "metadata": {
    "colab_type": "text",
    "id": "AU_jIiJLCG1B"
   },
   "source": [
    "Теперь найдем собственные векторы вида $\\begin{pmatrix}\n",
    "x_{1}\\\\ \n",
    "x_{2}\n",
    "\\end{pmatrix}$, подставив полученное собственное значение в выражение $\\textbf{A}x=\\lambda x$:\n",
    "\n",
    "$$\\begin{pmatrix}\n",
    "-1 & -6\\\\ \n",
    "2 & 6\n",
    "\\end{pmatrix}\n",
    "\\begin{pmatrix}\n",
    "x_{1}\\\\ \n",
    "x_{2}\n",
    "\\end{pmatrix}=\n",
    "\\lambda\n",
    "\\begin{pmatrix}\n",
    "x_{1}\\\\ \n",
    "x_{2}\n",
    "\\end{pmatrix}.\n",
    "$$"
   ]
  },
  {
   "cell_type": "markdown",
   "metadata": {
    "colab_type": "text",
    "id": "_8uW26YXCG1D"
   },
   "source": [
    "Для $\\lambda = 3$ получим\n",
    "\n",
    "$$\\begin{cases}\n",
    "-x_{1}-6x_{2}= 3x_{1}, \\\\\n",
    "2x_{1}+6x_{2}= 3x_{2}.\n",
    "\\end{cases}$$ \n",
    "\n",
    "Перенеся все в левую часть, получим\n",
    "\n",
    "$$\\begin{cases}\n",
    "-4x_{1}-6x_{2} = 0, \\\\\n",
    "2x_{1}+3x_{2} = 0;\n",
    "\\end{cases}$$ \n",
    "\n",
    "$$x_{1}=-1.5x_{2}$$"
   ]
  },
  {
   "cell_type": "code",
   "execution_count": 9,
   "metadata": {},
   "outputs": [
    {
     "name": "stdout",
     "output_type": "stream",
     "text": [
      "[[-9]\n",
      " [ 6]]\n",
      "[[-9]\n",
      " [ 6]]\n",
      "[[ True]\n",
      " [ True]]\n"
     ]
    }
   ],
   "source": [
    "A = np.array([[-1,-6],\n",
    "              [ 2, 6]])\n",
    "B = np.array([[-3], # один из вариантов собственного вектора при lambda=3\n",
    "              [2]])\n",
    "lmbd = 3\n",
    "\n",
    "print(A@B)\n",
    "print(lmbd*B)\n",
    "\n",
    "print(A@B == lmbd*B)"
   ]
  },
  {
   "cell_type": "markdown",
   "metadata": {
    "colab_type": "text",
    "id": "_8uW26YXCG1D"
   },
   "source": [
    "Для $\\lambda = 2$ получим\n",
    "\n",
    "$$\\begin{cases}\n",
    "-x_{1}-6x_{2}= 2x_{1}, \\\\\n",
    "2x_{1}+6x_{2}= 2x_{2}.\n",
    "\\end{cases}$$ \n",
    "\n",
    "Перенеся все в левую часть, получим\n",
    "\n",
    "$$\\begin{cases}\n",
    "-3x_{1}-6x_{2} = 0, \\\\\n",
    "2x_{1}+4x_{2} = 0;\n",
    "\\end{cases}$$ \n",
    "\n",
    "$$x_{1}=-2x_{2}$$"
   ]
  },
  {
   "cell_type": "code",
   "execution_count": 10,
   "metadata": {},
   "outputs": [
    {
     "name": "stdout",
     "output_type": "stream",
     "text": [
      "[[-8]\n",
      " [ 4]]\n",
      "[[-8]\n",
      " [ 4]]\n",
      "[[ True]\n",
      " [ True]]\n"
     ]
    }
   ],
   "source": [
    "A = np.array([[-1,-6],\n",
    "              [ 2, 6]])\n",
    "B = np.array([[-4], # один из вариантов собственного вектора при lambda=3\n",
    "              [2]])\n",
    "lmbd = 2\n",
    "\n",
    "print(A@B)\n",
    "print(lmbd*B)\n",
    "\n",
    "print(A@B == lmbd*B)"
   ]
  },
  {
   "cell_type": "code",
   "execution_count": 3,
   "metadata": {},
   "outputs": [
    {
     "name": "stdout",
     "output_type": "stream",
     "text": [
      "Матрица A:\n",
      "[[-1 -6]\n",
      " [ 2  6]]\n",
      "Собственные значения:\n",
      "[2. 3.]\n",
      "Собственные векторы:\n",
      "[[-0.89442719  0.83205029]\n",
      " [ 0.4472136  -0.5547002 ]]\n"
     ]
    }
   ],
   "source": [
    "a = np.array([[-1,-6],\n",
    "              [ 2, 6]])\n",
    "\n",
    "w, v = np.linalg.eig(a)\n",
    "\n",
    "print(f'Матрица A:\\n{a}')\n",
    "print(f'Собственные значения:\\n{w}')\n",
    "print(f'Собственные векторы:\\n{v}')"
   ]
  },
  {
   "cell_type": "markdown",
   "metadata": {},
   "source": [
    "\n",
    "__2.__ Дан оператор поворота на 180 градусов, задаваемый матрицей \n",
    "\n",
    "$$A=\\begin{pmatrix}\n",
    "-1 & 0\\\\ \n",
    "0 & -1\n",
    "\\end{pmatrix}.$$\n",
    "\n",
    "Показать, что __любой__ вектор является для него собственным.\n",
    "\n"
   ]
  },
  {
   "cell_type": "markdown",
   "metadata": {},
   "source": [
    "__Решения:__\n",
    "\n",
    "Найдем собственные значения линейного оператора, составив и решив характеристическое уравнение:\n",
    "\n",
    "$$\\begin{vmatrix}\n",
    "-1-\\lambda & 0\\\\ \n",
    "0 & -1-\\lambda\n",
    "\\end{vmatrix} = 0,$$\n",
    "\n",
    "$$(-1-\\lambda)^2-0\\cdot0=0,$$\n",
    "\n",
    "$$-1-\\lambda=0,$$\n",
    "\n",
    "$$\\lambda=-1$$"
   ]
  },
  {
   "cell_type": "markdown",
   "metadata": {
    "colab_type": "text",
    "id": "AU_jIiJLCG1B"
   },
   "source": [
    "Теперь найдем собственные векторы вида $\\begin{pmatrix}\n",
    "x_{1}\\\\ \n",
    "x_{2}\n",
    "\\end{pmatrix}$, подставив полученное собственное значение в выражение $\\textbf{A}x=\\lambda x$:\n",
    "\n",
    "$$\\begin{pmatrix}\n",
    "-1 & 0\\\\ \n",
    "0 & -1\n",
    "\\end{pmatrix}\n",
    "\\begin{pmatrix}\n",
    "x_{1}\\\\ \n",
    "x_{2}\n",
    "\\end{pmatrix}=\n",
    "\\lambda\n",
    "\\begin{pmatrix}\n",
    "x_{1}\\\\ \n",
    "x_{2}\n",
    "\\end{pmatrix}.\n",
    "$$"
   ]
  },
  {
   "cell_type": "markdown",
   "metadata": {
    "colab_type": "text",
    "id": "_8uW26YXCG1D"
   },
   "source": [
    "Для $\\lambda = -1$ получим\n",
    "\n",
    "$$\\begin{cases}\n",
    "-x_{1}+0\\cdot{x_{2}}= -x_{1}, \\\\\n",
    "0\\cdot{x_{1}}+(-1)x_{2}= -x_{2}.\n",
    "\\end{cases}$$ \n",
    "\n",
    "$$\\begin{cases}\n",
    "-x_{1}= -x_{1}, \\\\\n",
    "-x_{2}= -x_{2}.\n",
    "\\end{cases}$$ \n",
    "\n",
    "\n",
    "или\n",
    "\n",
    "$$\\begin{cases}\n",
    "x_{1}= x_{1}, \\\\\n",
    "x_{2}= x_{2}.\n",
    "\\end{cases}$$ \n",
    "\n",
    "Что верно для любого вектора, ч.т.д."
   ]
  },
  {
   "cell_type": "code",
   "execution_count": 11,
   "metadata": {},
   "outputs": [
    {
     "name": "stdout",
     "output_type": "stream",
     "text": [
      "Матрица A:\n",
      "[[-1  0]\n",
      " [ 0 -1]]\n",
      "Собственные значения:\n",
      "[-1. -1.]\n",
      "Собственные векторы:\n",
      "[[1. 0.]\n",
      " [0. 1.]]\n"
     ]
    }
   ],
   "source": [
    "a = np.array([[-1,0],\n",
    "              [ 0, -1]])\n",
    "\n",
    "w, v = np.linalg.eig(a)\n",
    "\n",
    "print(f'Матрица A:\\n{a}')\n",
    "print(f'Собственные значения:\\n{w}')\n",
    "print(f'Собственные векторы:\\n{v}')"
   ]
  },
  {
   "cell_type": "markdown",
   "metadata": {},
   "source": [
    "__3.__ Пусть линейный оператор задан матрицей\n",
    "\n",
    "$$A=\\begin{pmatrix}\n",
    "1 & 1\\\\ \n",
    "-1 & 3\n",
    "\\end{pmatrix}.$$\n",
    "\n",
    "Установить, является ли вектор $x=(1,1)$ собственным вектором этого линейного оператора.\n",
    "\n"
   ]
  },
  {
   "cell_type": "markdown",
   "metadata": {
    "colab_type": "text",
    "id": "AU_jIiJLCG1B"
   },
   "source": [
    "__Решение:__\n",
    "Проверим выражение, которое должно соблюдаться для собственных векторов $\\begin{pmatrix}\n",
    "x_{1}\\\\ \n",
    "x_{2}\n",
    "\\end{pmatrix}$,  $\\textbf{A}x=\\lambda x$:\n",
    "\n",
    "$$\\begin{pmatrix}\n",
    "1 & 1\\\\ \n",
    "-1 & 3\n",
    "\\end{pmatrix}\n",
    "\\begin{pmatrix}\n",
    "1\\\\ \n",
    "1\n",
    "\\end{pmatrix}=\n",
    "\\begin{pmatrix}\n",
    "1\\cdot1 + 1\\cdot1\\\\ \n",
    "-1\\cdot1 + 3\\cdot1\n",
    "\\end{pmatrix}=\n",
    "\\begin{pmatrix}\n",
    "2\\\\ \n",
    "2\n",
    "\\end{pmatrix}=\n",
    "\\lambda\n",
    "\\begin{pmatrix}\n",
    "1\\\\ \n",
    "1\n",
    "\\end{pmatrix} при \\lambda = 2.\n",
    "$$"
   ]
  },
  {
   "cell_type": "code",
   "execution_count": null,
   "metadata": {},
   "outputs": [],
   "source": []
  },
  {
   "cell_type": "code",
   "execution_count": 13,
   "metadata": {},
   "outputs": [
    {
     "name": "stdout",
     "output_type": "stream",
     "text": [
      "Матрица A:\n",
      "[[ 1  1]\n",
      " [-1  3]]\n",
      "Собственные значения:\n",
      "[2.00000002 1.99999998]\n",
      "Собственные векторы:\n",
      "[[ 0.70710677 -0.70710679]\n",
      " [ 0.70710679 -0.70710677]]\n",
      "[[2]\n",
      " [2]]\n"
     ]
    }
   ],
   "source": [
    "a = np.array([[ 1, 1],\n",
    "              [-1, 3]])\n",
    "\n",
    "w, v = np.linalg.eig(a)\n",
    "\n",
    "print(f'Матрица A:\\n{a}')\n",
    "print(f'Собственные значения:\\n{w}')\n",
    "print(f'Собственные векторы:\\n{v}')\n",
    "print(a@np.array([[1],\n",
    "                  [1]]))"
   ]
  },
  {
   "cell_type": "markdown",
   "metadata": {},
   "source": [
    "__4.__ Пусть линейный оператор задан матрицей\n",
    "\n",
    "$$A=\\begin{pmatrix}\n",
    "0 & 3 & 0\\\\ \n",
    "3 & 0 & 0\\\\\n",
    "0 & 0 & 3\n",
    "\\end{pmatrix}.$$\n",
    "\n",
    "Установить, является ли вектор $x=(3, -3, -4)$ собственным вектором этого линейного оператора."
   ]
  },
  {
   "cell_type": "markdown",
   "metadata": {
    "colab_type": "text",
    "id": "AU_jIiJLCG1B"
   },
   "source": [
    "__Решение:__\n",
    "Проверим выражение, которое должно соблюдаться для собственных векторов $\\begin{pmatrix}\n",
    "x_{1}\\\\ \n",
    "x_{2}\\\\\n",
    "x_{3}\n",
    "\\end{pmatrix}$,  $\\textbf{A}x=\\lambda x$:\n",
    "\n",
    "$$\\begin{pmatrix}\n",
    "0 & 3 & 0\\\\ \n",
    "3 & 0 & 0\\\\ \n",
    "0 & 0 & 3\n",
    "\\end{pmatrix}\n",
    "\\begin{pmatrix}\n",
    "3\\\\ \n",
    "-3\\\\ \n",
    "-4\n",
    "\\end{pmatrix}=\n",
    "\\begin{pmatrix}\n",
    "0\\cdot3 + 3\\cdot{(-3)} + 0\\cdot{(-4)}\\\\ \n",
    "3\\cdot3 + 0\\cdot{(-3)} + 0\\cdot{(-4)}\\\\ \n",
    "0\\cdot3 + 0\\cdot{(-3)} + 3\\cdot{(-4)}\n",
    "\\end{pmatrix}=\n",
    "\\begin{pmatrix}\n",
    "-9\\\\ \n",
    "9\\\\ \n",
    "-12\n",
    "\\end{pmatrix}<>\n",
    "\\lambda\n",
    "\\begin{pmatrix}\n",
    "3\\\\ \n",
    "-3\\\\ \n",
    "-4\n",
    "\\end{pmatrix}\n",
    "$$\n",
    "Равенство  не  существует, т.е. вектор $x=(3, -3, -4)$ не является собственным вектором. \n"
   ]
  },
  {
   "cell_type": "code",
   "execution_count": 14,
   "metadata": {},
   "outputs": [
    {
     "name": "stdout",
     "output_type": "stream",
     "text": [
      "Матрица A:\n",
      "[[0 3 0]\n",
      " [3 0 0]\n",
      " [0 0 3]]\n",
      "Собственные значения:\n",
      "[ 3. -3.  3.]\n",
      "Собственные векторы:\n",
      "[[ 0.70710678 -0.70710678  0.        ]\n",
      " [ 0.70710678  0.70710678  0.        ]\n",
      " [ 0.          0.          1.        ]]\n",
      "[[ -9]\n",
      " [  9]\n",
      " [-12]]\n"
     ]
    }
   ],
   "source": [
    "a = np.array([[0, 3, 0],\n",
    "              [3, 0, 0],\n",
    "              [0, 0, 3]])\n",
    "\n",
    "w, v = np.linalg.eig(a)\n",
    "\n",
    "print(f'Матрица A:\\n{a}')\n",
    "print(f'Собственные значения:\\n{w}')\n",
    "print(f'Собственные векторы:\\n{v}')\n",
    "print(a@np.array([[3],\n",
    "                  [-3],\n",
    "                  [-4]]))"
   ]
  },
  {
   "cell_type": "code",
   "execution_count": null,
   "metadata": {},
   "outputs": [],
   "source": []
  }
 ],
 "metadata": {
  "kernelspec": {
   "display_name": "Python 3",
   "language": "python",
   "name": "python3"
  },
  "language_info": {
   "codemirror_mode": {
    "name": "ipython",
    "version": 3
   },
   "file_extension": ".py",
   "mimetype": "text/x-python",
   "name": "python",
   "nbconvert_exporter": "python",
   "pygments_lexer": "ipython3",
   "version": "3.7.1"
  }
 },
 "nbformat": 4,
 "nbformat_minor": 2
}
