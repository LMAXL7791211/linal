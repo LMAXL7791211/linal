{
 "cells": [
  {
   "cell_type": "markdown",
   "metadata": {},
   "source": [
    "## ПЗ к 4 вебинару Линейной алгебры (уроки 6 и 7)."
   ]
  },
  {
   "cell_type": "code",
   "execution_count": 1,
   "metadata": {},
   "outputs": [],
   "source": [
    "import numpy as np"
   ]
  },
  {
   "cell_type": "markdown",
   "metadata": {
    "colab_type": "text",
    "id": "cTVfl123ZS5O"
   },
   "source": [
    "__1.__ Решить систему уравнений методом Гаусса:\n",
    "\n",
    "$$\\begin{cases}\n",
    "x_{1}+x_{2}-x_{3}-2x_{4}=0, \\\\\n",
    "2x_{1}+x_{2}-x_{3}+x_{4}=-2, \\\\\n",
    "x_{1}+x_{2}-3x_{3}+x_{4}=4.\n",
    "\\end{cases}$$\n"
   ]
  },
  {
   "cell_type": "markdown",
   "metadata": {},
   "source": [
    "__Решение:__\n",
    "\n",
    "$$\\begin{pmatrix}\n",
    "\\left.\\begin{matrix}\n",
    "1 & 1 & -1 & -2 \\\\ \n",
    "2 & 1 & -1 & 1 \\\\ \n",
    "1 & 1 & -3 & 1\n",
    "\\end{matrix}\\right|\n",
    "\\begin{matrix}\n",
    "0\\\\ \n",
    "-2\\\\\n",
    "4\n",
    "\\end{matrix}\n",
    "\\end{pmatrix}.$$\n",
    "\n",
    "Вычтем из 2 строки первую, умноженнную на 2; вычтем из 3 строки первую.\n",
    "\n",
    "$$\\begin{pmatrix}\n",
    "\\left.\\begin{matrix}\n",
    "1 & 1 & -1 & -2 \\\\ \n",
    "0 & -1 & 1 & 5 \\\\ \n",
    "0 & 0 & -2 & 3\n",
    "\\end{matrix}\\right|\n",
    "\\begin{matrix}\n",
    "0\\\\ \n",
    "-2\\\\\n",
    "4\n",
    "\\end{matrix}\n",
    "\\end{pmatrix}.$$\n",
    "\n",
    "Оставшаяся матрица соответствует системе\n",
    "\n",
    "$$\\begin{cases}\n",
    "x_{1}+x_{2}-x_{3}-2х_{4}=0, \\\\\n",
    "~~~~-x_{2}+x_{3}+5x_{4}=-2, \\\\\n",
    "~~~~~~~~~~~~-2x_{3}+3x_{4}=4.\n",
    "\\end{cases}$$\n",
    "\n",
    "_Общее решение_:\n",
    "\n",
    "_Свободный_ параметр $x_{4}=c$\n",
    "\n",
    "$$x_{3}=1.5c-2,$$\n",
    "$$-x_{2}+1.5c-2+5c=-2 \\; \\Leftrightarrow \\; x_{2}=6.5с,$$\n",
    "$$x_{1}+6.5с-(1.5с-2)-2c=0 \\; \\Leftrightarrow \\; x_{1}=-3с-2.$$\n",
    "\n"
   ]
  },
  {
   "cell_type": "markdown",
   "metadata": {},
   "source": [
    "\n",
    "__2.__ Проверить на совместность и выяснить, сколько решений будет иметь система линейных уравнений:\n",
    "\n",
    "   а) $\\begin{cases}\n",
    "3x_{1}-x_{2}+x_{3}=4, \\\\\n",
    "2x_{1}-5x_{2}-3x_{3}=-17, \\\\\n",
    "x_{1}+x_{2}-x_{3}=0;\n",
    "\\end{cases}$\n"
   ]
  },
  {
   "cell_type": "markdown",
   "metadata": {},
   "source": [
    "__Решение__\n",
    "\n",
    "$$\\tilde{A}=\\begin{pmatrix}\n",
    "\\left.\\begin{matrix}\n",
    "3 & -1 & 1\\\\ \n",
    "2 & -5 & -3\\\\ \n",
    "1 & 1 & -1 \n",
    "\\end{matrix}\\right|\n",
    "\\begin{matrix}\n",
    "4\\\\ \n",
    "-17\\\\\n",
    "0\n",
    "\\end{matrix}\n",
    "\\end{pmatrix}$$\n",
    "\n",
    "n = 3. Определяем ранг матрицы:\n",
    "\n",
    "Меняем местами 1 и 3 строки:\n",
    "\n",
    "$$\\begin{pmatrix}\n",
    "\\left.\\begin{matrix}\n",
    "1 & 1 & -1 \\\\ \n",
    "2 & -5 & -3\\\\ \n",
    "3 & -1 & 1\n",
    "\\end{matrix}\\right|\n",
    "\\begin{matrix}\n",
    "0\\\\ \n",
    "-17\\\\\n",
    "4\n",
    "\\end{matrix}\n",
    "\\end{pmatrix}$$\n",
    "\n",
    "вычитаем из 2 строки 1ю, умноженную на 2, и из 3 строки 1ю, умноженную на 3:\n",
    "\n",
    "$$\\begin{pmatrix}\n",
    "\\left.\\begin{matrix}\n",
    "1 & 1 & -1 \\\\ \n",
    "0 & -7 & -1\\\\ \n",
    "0 & -4 & 4\n",
    "\\end{matrix}\\right|\n",
    "\\begin{matrix}\n",
    "0\\\\ \n",
    "-17\\\\\n",
    "4\n",
    "\\end{matrix}\n",
    "\\end{pmatrix}$$\n",
    "\n",
    "умножим 2 строку на -4, 3ю на 7 и прибавим к 3й строке 2ю:\n",
    "\n",
    "$$\\begin{pmatrix}\n",
    "\\left.\\begin{matrix}\n",
    "1 & 1 & -1 \\\\ \n",
    "0 & 28 & 4\\\\ \n",
    "0 & 0 & 32\n",
    "\\end{matrix}\\right|\n",
    "\\begin{matrix}\n",
    "0\\\\ \n",
    "68\\\\\n",
    "96\n",
    "\\end{matrix}\n",
    "\\end{pmatrix}$$\n",
    "\n",
    "$rankA=rank \\tilde A=n = 3$.<br>\n",
    "__Система совместна и определена (имеет единственное решение).__"
   ]
  },
  {
   "cell_type": "code",
   "execution_count": 12,
   "metadata": {},
   "outputs": [
    {
     "name": "stdout",
     "output_type": "stream",
     "text": [
      "Rank A = 3, rank A extended = 3\n"
     ]
    }
   ],
   "source": [
    "A = np.array([[3,-1,1],\n",
    "              [2,-5,-3],\n",
    "              [1,1,-1]])\n",
    "\n",
    "Ae = np.array([[3,-1,1,4],\n",
    "              [2,-5,-3,-17],\n",
    "              [1,1,-1,0]])\n",
    "\n",
    "print(f'Rank A = {np.linalg.matrix_rank(A)}, rank A extended = {np.linalg.matrix_rank(Ae)}')\n",
    "\n"
   ]
  },
  {
   "cell_type": "markdown",
   "metadata": {},
   "source": [
    "    \n",
    "   б) $\\begin{cases}\n",
    "2x_{1}-4x_{2}+6x_{3}=1, \\\\\n",
    "x_{1}-2x_{2}+3x_{3}=-2, \\\\\n",
    "3x_{1}-6x_{2}+9x_{3}=5;\n",
    "\\end{cases}$\n"
   ]
  },
  {
   "cell_type": "markdown",
   "metadata": {},
   "source": [
    "__Решение__\n",
    "\n",
    "$$\\tilde{A}=\\begin{pmatrix}\n",
    "\\left.\\begin{matrix}\n",
    "2 & -4 & 6\\\\ \n",
    "1 & -2 & 3\\\\ \n",
    "3 & -6 & 9 \n",
    "\\end{matrix}\\right|\n",
    "\\begin{matrix}\n",
    "1\\\\ \n",
    "-2\\\\\n",
    "5\n",
    "\\end{matrix}\n",
    "\\end{pmatrix}$$\n",
    "\n",
    "n = 3. Определяем ранг матрицы:\n",
    "\n",
    "Меняем местами 1 и 2 строки:\n",
    "\n",
    "$$\\begin{pmatrix}\n",
    "\\left.\\begin{matrix}\n",
    "1 & -2 & 3\\\\ \n",
    "2 & -4 & 6\\\\ \n",
    "3 & -6 & 9 \n",
    "\\end{matrix}\\right|\n",
    "\\begin{matrix}\n",
    "-2\\\\\n",
    "1\\\\ \n",
    "5\n",
    "\\end{matrix}\n",
    "\\end{pmatrix}$$\n",
    "\n",
    "вычитаем из 2 строки 1ю, умноженную на 2, и из 3 строки 1ю, умноженную на 3:\n",
    "\n",
    "$$\\begin{pmatrix}\n",
    "\\left.\\begin{matrix}\n",
    "1 & -2 & 3\\\\ \n",
    "0 & 0 & 0\\\\ \n",
    "0 & 0 & 0 \n",
    "\\end{matrix}\\right|\n",
    "\\begin{matrix}\n",
    "-2\\\\\n",
    "5\\\\ \n",
    "11\n",
    "\\end{matrix}\n",
    "\\end{pmatrix}$$\n",
    "\n",
    "\n",
    "$rankA=1, rank \\tilde A=2, n = 3$.<br>\n",
    "__Система несовместна и не имеет решения).__"
   ]
  },
  {
   "cell_type": "code",
   "execution_count": 13,
   "metadata": {},
   "outputs": [
    {
     "name": "stdout",
     "output_type": "stream",
     "text": [
      "Rank A = 1, rank A extended = 2\n"
     ]
    }
   ],
   "source": [
    "A = np.array([[2,-4,6],\n",
    "              [1,-2,3],\n",
    "              [3,-6,9]])\n",
    "\n",
    "Ae = np.array([[2,-4,6,1],\n",
    "              [1,-2,3,-2],\n",
    "              [3,-6,9,5]])\n",
    "\n",
    "print(f'Rank A = {np.linalg.matrix_rank(A)}, rank A extended = {np.linalg.matrix_rank(Ae)}')\n",
    "\n"
   ]
  },
  {
   "cell_type": "markdown",
   "metadata": {},
   "source": [
    "    \n",
    "   в) $\\begin{cases}\n",
    "x_{1}+2x_{2}+5x_{3}=4, \\\\\n",
    "3x_{1}+x_{2}-8x_{3}=-2. \n",
    "\\end{cases}$\n",
    "\n"
   ]
  },
  {
   "cell_type": "markdown",
   "metadata": {},
   "source": [
    "__Решение__\n",
    "\n",
    "$$\\tilde{A}=\\begin{pmatrix}\n",
    "\\left.\\begin{matrix}\n",
    "1 & 2 & 5\\\\ \n",
    "3 & 1 & -8 \n",
    "\\end{matrix}\\right|\n",
    "\\begin{matrix}\n",
    "4\\\\ \n",
    "-2\n",
    "\\end{matrix}\n",
    "\\end{pmatrix}$$\n",
    "\n",
    "n = 3. Определяем ранг матрицы:\n",
    "\n",
    "Вычитаем из 2 строки 1ю, умноженную на 3:\n",
    "\n",
    "$$\\begin{pmatrix}\n",
    "\\left.\\begin{matrix}\n",
    "1 & 2 & 5\\\\ \n",
    "0 & -5 & -23 \n",
    "\\end{matrix}\\right|\n",
    "\\begin{matrix}\n",
    "4\\\\ \n",
    "-14\n",
    "\\end{matrix}\n",
    "\\end{pmatrix}$$\n",
    "\n",
    "$rankA=rank \\tilde A=2, n = 3$.<br>\n",
    "__Система совместна и неопределена (имеет бесконечное множество решений).__"
   ]
  },
  {
   "cell_type": "code",
   "execution_count": 14,
   "metadata": {},
   "outputs": [
    {
     "name": "stdout",
     "output_type": "stream",
     "text": [
      "Rank A = 2, rank A extended = 2\n"
     ]
    }
   ],
   "source": [
    "A = np.array([[1,2,5],\n",
    "              [3,1,-8]])\n",
    "\n",
    "Ae = np.array([[1,2,5,4],\n",
    "               [3,1,-8,-2]])\n",
    "\n",
    "print(f'Rank A = {np.linalg.matrix_rank(A)}, rank A extended = {np.linalg.matrix_rank(Ae)}')\n",
    "\n"
   ]
  },
  {
   "cell_type": "markdown",
   "metadata": {},
   "source": [
    "\n",
    "__3.__ Проверить на совместность и выяснить, сколько решений будет иметь система линейных уравнений, заданная расширенной матрицей\n",
    "\n",
    "$$\\tilde{A}=\\begin{pmatrix}\n",
    "\\left.\\begin{matrix}\n",
    "1 & 3 & -2 & 4\\\\ \n",
    "0 & 5 & 0 & 1\\\\ \n",
    "0 & 0 & 3 & 0\\\\ \n",
    "0 & 0 & 0 & 2\n",
    "\\end{matrix}\\right|\n",
    "\\begin{matrix}\n",
    "3\\\\ \n",
    "2\\\\\n",
    "4\\\\\n",
    "1\n",
    "\\end{matrix}\n",
    "\\end{pmatrix}.$$"
   ]
  },
  {
   "cell_type": "markdown",
   "metadata": {},
   "source": [
    "__Решение:__\n",
    "$rankA=rank \\tilde A=n = 4$.<br>\n",
    "__Система совместна и определена (имеет единственное решение).__"
   ]
  },
  {
   "cell_type": "code",
   "execution_count": 15,
   "metadata": {},
   "outputs": [
    {
     "name": "stdout",
     "output_type": "stream",
     "text": [
      "Rank A = 4, rank A extended = 4\n"
     ]
    }
   ],
   "source": [
    "A = np.array([[1,3,-2,4],\n",
    "               [0,5,0,1],\n",
    "               [0,0,3,0],\n",
    "               [0,0,0,2]])\n",
    "\n",
    "Ae = np.array([[1,3,-2,4,3],\n",
    "               [0,5,0,1,2],\n",
    "               [0,0,3,0,4],\n",
    "               [0,0,0,2,1]])\n",
    "\n",
    "print(f'Rank A = {np.linalg.matrix_rank(A)}, rank A extended = {np.linalg.matrix_rank(Ae)}')\n",
    "\n"
   ]
  },
  {
   "cell_type": "markdown",
   "metadata": {},
   "source": [
    "\n",
    "__4.__ Дана система линейных уравнений, заданная расширенной матрицей\n",
    "\n",
    "$$\\tilde{A}=\\begin{pmatrix}\n",
    "\\left.\\begin{matrix}\n",
    "1 & 2 & 3\\\\ \n",
    "4 & 5 & 6\\\\ \n",
    "7 & 8 & 9\n",
    "\\end{matrix}\\right|\n",
    "\\begin{matrix}\n",
    "a\\\\ \n",
    "b\\\\\n",
    "c\n",
    "\\end{matrix}\n",
    "\\end{pmatrix}.$$\n",
    "\n",
    "Найти соотношение между параметрами $a$, $b$ и $c$, при которых система является несовместной."
   ]
  },
  {
   "cell_type": "markdown",
   "metadata": {},
   "source": [
    "__Решение:__\n",
    "\n",
    "Если $rankA<rank \\tilde A$, то система несовместна.\n",
    "\n",
    "n = 3. Определяем ранг матрицы:\n",
    "\n",
    "Вычитаем из 2 строки первую, умноженную на 4, и изп 3 строки 1ю, умноженную на 7:\n",
    "\n",
    "$$\\begin{pmatrix}\n",
    "\\left.\\begin{matrix}\n",
    "1 & 2 & 3\\\\ \n",
    "0 & -3 & -6\\\\ \n",
    "0 & -6 & -12 \n",
    "\\end{matrix}\\right|\n",
    "\\begin{matrix}\n",
    "a\\\\\n",
    "b-4a\\\\ \n",
    "c-7a\n",
    "\\end{matrix}\n",
    "\\end{pmatrix}$$\n",
    "\n",
    "Прибавляем к 3 строке 2ю, умноженную на 2:\n",
    "\n",
    "$$\\begin{pmatrix}\n",
    "\\left.\\begin{matrix}\n",
    "1 & 2 & 3\\\\ \n",
    "0 & -3 & -6\\\\ \n",
    "0 & 0 & 0 \n",
    "\\end{matrix}\\right|\n",
    "\\begin{matrix}\n",
    "a\\\\\n",
    "b-4a\\\\ \n",
    "c-7a + 2b - 8a\n",
    "\\end{matrix}\n",
    "\\end{pmatrix}$$\n",
    "\n",
    "\n",
    "$rankA=2, rank \\tilde A>2$ при условии что с+2b-15a <> 0, т.е. соотношение должно быть:<br>\n",
    "__Ответ: с+2b <> 15a__<br>"
   ]
  },
  {
   "cell_type": "markdown",
   "metadata": {},
   "source": [
    "## Практическое задание ч.2 (Урок 7)"
   ]
  },
  {
   "cell_type": "markdown",
   "metadata": {
    "colab_type": "text",
    "id": "ZBi7FV66fPKf"
   },
   "source": [
    "__1.__ Решить систему уравнений методом Крамера:\n",
    "\n",
    "   а) $\\begin{cases}\n",
    "x_{1}-2x_{2}=1 \\\\\n",
    "3x_{1}-4x_{2}=7\n",
    "\\end{cases}$\n"
   ]
  },
  {
   "cell_type": "markdown",
   "metadata": {
    "colab_type": "text",
    "id": "ZBi7FV66fPKf"
   },
   "source": [
    "__5*.__ Написать на Python программу с реализацией одного из изученных алгоритмов решения СЛАУ."
   ]
  },
  {
   "cell_type": "markdown",
   "metadata": {},
   "source": [
    "Программа решения СЛАУ методом Крамера:"
   ]
  },
  {
   "cell_type": "code",
   "execution_count": 97,
   "metadata": {},
   "outputs": [],
   "source": [
    "def kram(A, b):\n",
    "    detA = np.linalg.det(A)\n",
    "    print(f'Определитель матрицы А: detA = {detA:.2g}\\n\\n')\n",
    "    xvec = np.array([0]) # [0] добавил для корректной работы функции vstack ниже\n",
    "    for i in range(A.shape[1]):\n",
    "        Ai = A.copy()\n",
    "        Ai[:,i] = b.flatten()\n",
    "        print(f'{i+1}я матрица замены: \\n{Ai}\\n')\n",
    "        detAi = np.linalg.det(Ai)\n",
    "        print(f'Определитель detA{i+1} = {detAi:.2g}\\n')\n",
    "        x = np.array([detAi/detA])\n",
    "        print(f'x{i+1} = {x[0]:.2g}\\n')\n",
    "        xvec = np.vstack((xvec, x))\n",
    "    \n",
    "    \n",
    "    return xvec[1:] # без 1й ненужной строки [0]"
   ]
  },
  {
   "cell_type": "code",
   "execution_count": 98,
   "metadata": {
    "scrolled": false
   },
   "outputs": [
    {
     "name": "stdout",
     "output_type": "stream",
     "text": [
      "Определитель матрицы А: detA = 2\n",
      "\n",
      "\n",
      "1я матрица замены: \n",
      "[[ 1 -2]\n",
      " [ 7 -4]]\n",
      "\n",
      "Определитель detA1 = 10\n",
      "\n",
      "x1 = 5\n",
      "\n",
      "2я матрица замены: \n",
      "[[1 1]\n",
      " [3 7]]\n",
      "\n",
      "Определитель detA2 = 4\n",
      "\n",
      "x2 = 2\n",
      "\n"
     ]
    },
    {
     "data": {
      "text/plain": [
       "array([[5.],\n",
       "       [2.]])"
      ]
     },
     "execution_count": 98,
     "metadata": {},
     "output_type": "execute_result"
    }
   ],
   "source": [
    "A = np.array([[1,-2],\n",
    "              [3,-4]])\n",
    "b = np.array([[1],\n",
    "              [7]])\n",
    "xall = kram(A,b)\n",
    "xall"
   ]
  },
  {
   "cell_type": "code",
   "execution_count": 99,
   "metadata": {},
   "outputs": [
    {
     "data": {
      "text/plain": [
       "array([[1.],\n",
       "       [7.]])"
      ]
     },
     "execution_count": 99,
     "metadata": {},
     "output_type": "execute_result"
    }
   ],
   "source": [
    "A@xall"
   ]
  },
  {
   "cell_type": "markdown",
   "metadata": {
    "colab_type": "text",
    "id": "ZBi7FV66fPKf"
   },
   "source": [
    "    \n",
    "   б) $\\begin{cases}\n",
    "2x_{1}-x_{2}+5x_{3}=10 \\\\\n",
    "x_{1}+x_{2}-3x_{3}=-2 \\\\\n",
    "2x_{1}+4x_{2}+x_{3}=1\n",
    "\\end{cases}$\n"
   ]
  },
  {
   "cell_type": "code",
   "execution_count": 100,
   "metadata": {
    "scrolled": false
   },
   "outputs": [
    {
     "name": "stdout",
     "output_type": "stream",
     "text": [
      "Определитель матрицы А: detA = 43\n",
      "\n",
      "\n",
      "1я матрица замены: \n",
      "[[10 -1  5]\n",
      " [-2  1 -3]\n",
      " [ 1  4  1]]\n",
      "\n",
      "Определитель detA1 = 86\n",
      "\n",
      "x1 = 2\n",
      "\n",
      "2я матрица замены: \n",
      "[[ 2 10  5]\n",
      " [ 1 -2 -3]\n",
      " [ 2  1  1]]\n",
      "\n",
      "Определитель detA2 = -43\n",
      "\n",
      "x2 = -1\n",
      "\n",
      "3я матрица замены: \n",
      "[[ 2 -1 10]\n",
      " [ 1  1 -2]\n",
      " [ 2  4  1]]\n",
      "\n",
      "Определитель detA3 = 43\n",
      "\n",
      "x3 = 1\n",
      "\n"
     ]
    },
    {
     "data": {
      "text/plain": [
       "array([[ 2.],\n",
       "       [-1.],\n",
       "       [ 1.]])"
      ]
     },
     "execution_count": 100,
     "metadata": {},
     "output_type": "execute_result"
    }
   ],
   "source": [
    "A = np.array([[2,-1,5],\n",
    "              [1,1,-3],\n",
    "              [2,4,1]])\n",
    "b = np.array([[10],\n",
    "              [-2],\n",
    "              [1]])\n",
    "xall = kram(A,b)\n",
    "xall"
   ]
  },
  {
   "cell_type": "code",
   "execution_count": 78,
   "metadata": {
    "scrolled": true
   },
   "outputs": [
    {
     "data": {
      "text/plain": [
       "array([[10.],\n",
       "       [-2.],\n",
       "       [ 1.]])"
      ]
     },
     "execution_count": 78,
     "metadata": {},
     "output_type": "execute_result"
    }
   ],
   "source": [
    "A@xall"
   ]
  },
  {
   "cell_type": "markdown",
   "metadata": {
    "colab_type": "text",
    "id": "ZBi7FV66fPKf"
   },
   "source": [
    "__2.__ Найти $L$-матрицу $LU$-разложения для матрицы коэффициентов:\n",
    "\n",
    "   а)$$\\begin{pmatrix}\n",
    "1 & 2 & 4 \\\\ \n",
    "2 & 9 & 12 \\\\ \n",
    "3 & 26 & 30\n",
    "\\end{pmatrix}$$\n"
   ]
  },
  {
   "cell_type": "markdown",
   "metadata": {},
   "source": [
    "__Решение__:\n",
    "\n",
    "Домножим 1 строку на 2 и вычтем ее из 2й; домножим 1 строку на 3 и вычтем ее из 3. Матрица коэффициентов будет иметь вид:\n",
    "\n",
    "$$\\begin{pmatrix}\n",
    "1 & 2 & 4 \\\\ \n",
    "0 & 5 & 4 \\\\ \n",
    "0 & 20 & 18\n",
    "\\end{pmatrix}$$\n",
    "\n",
    "а матрица $L$ —\n",
    "\n",
    "$$\\begin{pmatrix}\n",
    "1 & 0 & 0 \\\\ \n",
    "2 & 1 & 0 \\\\ \n",
    "3 & l_{32} & 1\n",
    "\\end{pmatrix}.$$\n"
   ]
  },
  {
   "cell_type": "markdown",
   "metadata": {},
   "source": [
    "Далее умножим вторую строку на $(4)$ и вычтем ее из третьей. При этом в матрицу $L$ на место $l_{32}$ запишем $4$.\n",
    "\n",
    "В итоге получим\n",
    "\n",
    "$$U=\\begin{pmatrix}\n",
    "1 & 2 & 4 \\\\ \n",
    "0 & 5 & 4 \\\\ \n",
    "0 & 0 & 2\n",
    "\\end{pmatrix},$$\n",
    "\n",
    "$$L=\\begin{pmatrix}\n",
    "1 & 0 & 0 \\\\ \n",
    "2 & 1 & 0 \\\\ \n",
    "3 & 4 & 1\n",
    "\\end{pmatrix}.$$\n"
   ]
  },
  {
   "cell_type": "code",
   "execution_count": 103,
   "metadata": {},
   "outputs": [
    {
     "data": {
      "text/plain": [
       "array([[ 1,  2,  4],\n",
       "       [ 2,  9, 12],\n",
       "       [ 3, 26, 30]])"
      ]
     },
     "execution_count": 103,
     "metadata": {},
     "output_type": "execute_result"
    }
   ],
   "source": [
    "U = np.array([[1,2,4],\n",
    "              [0,5,4],\n",
    "              [0,0,2]])\n",
    "L = np.array([[1,0,0],\n",
    "              [2,1,0],\n",
    "              [3,4,1]])\n",
    "L@U"
   ]
  },
  {
   "cell_type": "markdown",
   "metadata": {
    "colab_type": "text",
    "id": "ZBi7FV66fPKf"
   },
   "source": [
    "    \n",
    "   б)$$\\begin{pmatrix}\n",
    "1 & 1 & 2 & 4\\\\ \n",
    "2 & 5 & 8 & 9\\\\ \n",
    "3 & 18 & 29 & 18\\\\\n",
    "4 & 22 & 53 & 33\n",
    "\\end{pmatrix}$$\n"
   ]
  },
  {
   "cell_type": "markdown",
   "metadata": {},
   "source": [
    "__Решение__:\n",
    "\n",
    "Домножим 1 строку на 2 и вычтем ее из 2й; домножим 1 строку на 3 и вычтем ее из 3, домножим 1 на 4 и вычтем из 4й. Матрица коэффициентов будет иметь вид:\n",
    "\n",
    "$$\\begin{pmatrix}\n",
    "1 & 1 & 2 & 4\\\\ \n",
    "0 & 3 & 4 & 1\\\\ \n",
    "0 & 15 & 23 & 6\\\\\n",
    "0 & 18 & 45 & 17\n",
    "\\end{pmatrix}$$\n",
    "\n",
    "а матрица $L$ —\n",
    "\n",
    "$$\\begin{pmatrix}\n",
    "1 & 0 & 0 & 0 \\\\ \n",
    "2 & 1 & 0 & 0 \\\\ \n",
    "3 & l_{32} & 1 & 0 \\\\\n",
    "4 & l_{42} & l_{43} & 1\n",
    "\\end{pmatrix}.$$\n"
   ]
  },
  {
   "cell_type": "markdown",
   "metadata": {},
   "source": [
    "Далее умножим вторую строку на $(5)$ и вычтем ее из третьей, и, умножив ее же на 6 - вычтем из четвертой:\n",
    "\n",
    "Получим\n",
    "\n",
    "$$\\begin{pmatrix}\n",
    "1 & 1 & 2 & 4\\\\ \n",
    "0 & 3 & 4 & 1\\\\ \n",
    "0 & 0 & 3 & 1\\\\\n",
    "0 & 0 & 21 & 11\n",
    "\\end{pmatrix}$$\n",
    "\n",
    "$$\\begin{pmatrix}\n",
    "1 & 0 & 0 & 0 \\\\ \n",
    "2 & 1 & 0 & 0 \\\\ \n",
    "3 & 5 & 1 & 0 \\\\\n",
    "4 & 6 & l_{43} & 1\n",
    "\\end{pmatrix}.$$\n"
   ]
  },
  {
   "cell_type": "markdown",
   "metadata": {},
   "source": [
    "Далее умножим третью строку на $(7)$ и вычтем ее из четвертой:\n",
    "\n",
    "Получим $U$ - \n",
    "\n",
    "$$\\begin{pmatrix}\n",
    "1 & 1 & 2 & 4\\\\ \n",
    "0 & 3 & 4 & 1\\\\ \n",
    "0 & 0 & 3 & 1\\\\\n",
    "0 & 0 & 0 & 4\n",
    "\\end{pmatrix}$$\n",
    "\n",
    "а матрица $L$ —\n",
    "\n",
    "$$\\begin{pmatrix}\n",
    "1 & 0 & 0 & 0 \\\\ \n",
    "2 & 1 & 0 & 0 \\\\ \n",
    "3 & 5 & 1 & 0 \\\\\n",
    "4 & 6 & 7 & 1\n",
    "\\end{pmatrix}.$$\n"
   ]
  },
  {
   "cell_type": "code",
   "execution_count": 104,
   "metadata": {
    "scrolled": true
   },
   "outputs": [
    {
     "data": {
      "text/plain": [
       "array([[ 1,  1,  2,  4],\n",
       "       [ 2,  5,  8,  9],\n",
       "       [ 3, 18, 29, 18],\n",
       "       [ 4, 22, 53, 33]])"
      ]
     },
     "execution_count": 104,
     "metadata": {},
     "output_type": "execute_result"
    }
   ],
   "source": [
    "U = np.array([[1,1,2,4],\n",
    "              [0,3,4,1],\n",
    "              [0,0,3,1],\n",
    "              [0,0,0,4]])\n",
    "L = np.array([[1,0,0,0],\n",
    "              [2,1,0,0],\n",
    "              [3,5,1,0],\n",
    "              [4,6,7,1]])\n",
    "L@U"
   ]
  },
  {
   "cell_type": "markdown",
   "metadata": {
    "colab_type": "text",
    "id": "ZBi7FV66fPKf"
   },
   "source": [
    "    \n",
    "__3.__ Решить систему линейных уравнений методом $LU$-разложения\n",
    "\n",
    "$$\\begin{cases}\n",
    "2x_{1}+x_{2}+3x_{3}=1 \\\\\n",
    "11x_{1}+7x_{2}+5x_{3}=-6 \\\\\n",
    "9x_{1}+8x_{2}+4x_{3}=-5\n",
    "\\end{cases}$$\n"
   ]
  },
  {
   "cell_type": "markdown",
   "metadata": {
    "colab_type": "text",
    "id": "miRYjG2afPIo"
   },
   "source": [
    "Матрица коэффициентов $A$ будет иметь вид\n",
    "\n",
    "$$\\begin{pmatrix}\n",
    "2 & 1 & 3 \\\\ \n",
    "11 & 7 & 5 \\\\ \n",
    "9 & 8 & 4\n",
    "\\end{pmatrix}.$$"
   ]
  },
  {
   "cell_type": "markdown",
   "metadata": {
    "colab_type": "text",
    "id": "mLu52LrLfPJs"
   },
   "source": [
    "Начнем прямой ход метода Гаусса. Для этого домножим первую строку на $11/2$ и вычтем ее из второго уравнения. При этом запишем в матрицу $L$ на место элемента $l_{21}$ значение $11/2$. Затем нам нужно вычесть из третьего уравнения первое, домноженное на $9/2$. Значит, в матрицу $L$ запишем $l_{31}=9/2$. \n",
    "\n",
    "Матрица коэффициентов будет иметь вид\n",
    "\n",
    "$$\\begin{pmatrix}\n",
    "2 & 1 & 3 \\\\ \n",
    "0 & 3/2 & -23/2 \\\\ \n",
    "0 & 7/2 & -19/2\n",
    "\\end{pmatrix},$$\n",
    "\n",
    "а матрица $L$ —\n",
    "\n",
    "$$\\begin{pmatrix}\n",
    "1 & 0 & 0 \\\\ \n",
    "11/2 & 1 & 0 \\\\ \n",
    "9/2 & l_{32} & 1\n",
    "\\end{pmatrix}.$$"
   ]
  },
  {
   "cell_type": "markdown",
   "metadata": {
    "colab_type": "text",
    "id": "ObixYIZ0fPJt"
   },
   "source": [
    "Далее умножим вторую строку на $(7/3)$ и вычтем ее из третьей. При этом в матрицу $L$ на место $l_{32}$ запишем $7/3$.\n",
    "\n",
    "В итоге получим\n",
    "\n",
    "$$U=\\begin{pmatrix}\n",
    "2 & 1 & 3 \\\\ \n",
    "0 & 3/2 & -23/2 \\\\ \n",
    "0 & 0 & 52/3\n",
    "\\end{pmatrix},$$\n",
    "\n",
    "$$L=\\begin{pmatrix}\n",
    "1 & 0 & 0 \\\\ \n",
    "11/2 & 1 & 0 \\\\ \n",
    "9/2 & 7/3 & 1\n",
    "\\end{pmatrix}.$$"
   ]
  },
  {
   "cell_type": "markdown",
   "metadata": {
    "colab_type": "text",
    "id": "Z4U23qppfPJv"
   },
   "source": [
    "Решим теперь систему \n",
    "\n",
    "$$Ly=b:$$\n",
    "\n",
    "$$\\begin{cases}\n",
    "y_{1}=1, \\\\\n",
    "(11/2)y_{1}+y_{2}=-6, \\\\\n",
    "(9/2)y_{1}+(7/3)y_{2}+y_{3}=-5.\n",
    "\\end{cases}$$\n",
    "\n",
    "$$y_{1}=1,$$\n",
    "$$y_{2}=-23/2,$$\n",
    "$$y_{3}=52/3.$$\n",
    "\n",
    "И затем систему\n",
    "\n",
    "$$Ux=y:$$\n",
    "\n",
    "$$\\begin{cases}\n",
    "2x_{1}+x_{2}+3x_{3}=1, \\\\\n",
    "(3/2)x_{2}-(23/2)x_{3}=-23/2, \\\\\n",
    "(52/3)x_{3}=52/3.\n",
    "\\end{cases}$$\n",
    "\n",
    "$$x_{3}=1,$$\n",
    "$$x_{2}=0,$$\n",
    "$$x_{1}=-1.$$\n",
    "\n",
    "Произведем проверку, подставив полученные значения переменных в исходную систему:\n",
    "\n",
    "$$\\begin{cases}\n",
    "2\\cdot{(-1)}+1\\cdot0+3\\cdot1=1 \\\\\n",
    "11\\cdot{(-1)}+7\\cdot0+5\\cdot1=-6 \\\\\n",
    "9\\cdot{(-1)}+8\\cdot0+4\\cdot1=-5\n",
    "\\end{cases}$$\n",
    "\n",
    "Таким образом, найденное решение верно."
   ]
  },
  {
   "cell_type": "markdown",
   "metadata": {
    "colab_type": "text",
    "id": "ZBi7FV66fPKf"
   },
   "source": [
    "__4.__ Решить систему линейных уравнений методом Холецкого\n",
    "\n",
    "$$\\begin{cases}\n",
    "81x_{1}-45x_{2}+45x_{3}=531 \\\\\n",
    "-45x_{1}+50x_{2}-15x_{3}=-460 \\\\\n",
    "45x_{1}-15x_{2}+38x_{3}=193\n",
    "\\end{cases}$$\n"
   ]
  },
  {
   "cell_type": "markdown",
   "metadata": {
    "colab_type": "text",
    "id": "fXTc7djCfPKQ"
   },
   "source": [
    "Произведем разложение на $LL^{T}$:\n",
    "\n",
    "$$l_{11}=\\sqrt{a_{11}}=\\sqrt{81}=9,$$\n",
    "$$l_{21}=\\frac{a_{21}}{l_{11}}=\\frac{-45}{9}=-5,$$\n",
    "$$l_{31}=\\frac{a_{31}}{l_{11}}=\\frac{45}{9}=5,$$\n",
    "\n",
    "$$l_{22}=\\sqrt{a_{22}-l_{21}^{2}}=\\sqrt{50 - 25}=5,$$\n",
    "$$l_{32}=\\frac{1}{l_{22}}\\left ( a_{32}-l_{21}l_{31} \\right)=\\frac{1}{5}\\left ( -15 - (-5)\\cdot 5 \\right )=2,$$\n",
    "\n",
    "$$l_{33}=\\sqrt{a_{33}-l_{31}^{2}-l_{32}^{2}}=\\sqrt{38-25-4}=3.$$\n"
   ]
  },
  {
   "cell_type": "markdown",
   "metadata": {
    "colab_type": "text",
    "id": "NOxrKaICfPKT"
   },
   "source": [
    "Получили матрицу \n",
    "\n",
    "$$L = \\begin{pmatrix}\n",
    "9 & 0 & 0 \\\\ \n",
    "-5 & 5 & 0 \\\\ \n",
    "5 & 2 & 3\n",
    "\\end{pmatrix}, \n",
    "\\; \\; \n",
    "L^{T} = \\begin{pmatrix}\n",
    "9 & -5 & 5 \\\\ \n",
    "0 & 5 & 2 \\\\ \n",
    "0 & 0 & 3\n",
    "\\end{pmatrix}.$$"
   ]
  },
  {
   "cell_type": "markdown",
   "metadata": {
    "colab_type": "text",
    "id": "3JC07czjfPKV"
   },
   "source": [
    "Решим систему $Ly=b:$\n",
    "\n",
    "$$\\begin{cases}\n",
    "9y_{1}=531, \\\\\n",
    "(-5)y_{1}+5y_{2}=-460, \\\\\n",
    "5y_{1}+2y_{2}+3y_{3}=193.\n",
    "\\end{cases}$$\n",
    "\n",
    "$$y_{1} = 59,$$\n",
    "\n",
    "$$y_{2}=\\frac{-460+5\\cdot59}{5}=-33,$$\n",
    "\n",
    "$$y_{3}=\\frac{193-5\\cdot59-2\\cdot{(-33)}}{3}=-12.$$"
   ]
  },
  {
   "cell_type": "markdown",
   "metadata": {
    "colab_type": "text",
    "id": "MK4RaNxffPKX"
   },
   "source": [
    "И решим систему $L^{T}x=y:$\n",
    "\n",
    "$$\\begin{cases}\n",
    "9x_{1}-5x_{2}+5x_{3}=59, \\\\\n",
    "5x_{2}+2x_{3}=-33, \\\\\n",
    "3x_{3}=-12.\n",
    "\\end{cases}$$\n",
    "\n",
    "$$x_{3}=-4,$$\n",
    "\n",
    "$$x_{2}=\\frac{-33-2\\cdot{(-4)}}{5}=-5,$$\n",
    "\n",
    "$$x_{1}=\\frac{59+5\\cdot{(-5)}-5\\cdot{(-4)}}{9}=6.$$"
   ]
  },
  {
   "cell_type": "markdown",
   "metadata": {
    "colab_type": "text",
    "id": "BKOIO_3EfPKZ"
   },
   "source": [
    "Осуществим проверку, подставив полученные значения в исходную систему:\n",
    "\n",
    "$$\\begin{cases}\n",
    "81\\cdot6-45\\cdot{(-5)}+45\\cdot{(-4)}=531 \\\\\n",
    "-45\\cdot6+50\\cdot{(-5)}-15\\cdot{(-4)}=-460 \\\\\n",
    "45\\cdot6-15\\cdot{(-5)}+38\\cdot{(-4)}=193\n",
    "\\end{cases}$$"
   ]
  },
  {
   "cell_type": "markdown",
   "metadata": {},
   "source": [
    "решение задачи 5 выше"
   ]
  },
  {
   "cell_type": "code",
   "execution_count": null,
   "metadata": {},
   "outputs": [],
   "source": []
  }
 ],
 "metadata": {
  "kernelspec": {
   "display_name": "Python 3",
   "language": "python",
   "name": "python3"
  },
  "language_info": {
   "codemirror_mode": {
    "name": "ipython",
    "version": 3
   },
   "file_extension": ".py",
   "mimetype": "text/x-python",
   "name": "python",
   "nbconvert_exporter": "python",
   "pygments_lexer": "ipython3",
   "version": "3.7.1"
  }
 },
 "nbformat": 4,
 "nbformat_minor": 2
}
