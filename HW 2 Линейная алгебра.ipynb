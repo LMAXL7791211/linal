{
 "cells": [
  {
   "cell_type": "markdown",
   "metadata": {},
   "source": [
    "Заглушка к ПЗ ко 2му вебинару"
   ]
  },
  {
   "cell_type": "markdown",
   "metadata": {
    "colab_type": "text",
    "id": "VAmOu--LIILw"
   },
   "source": [
    "## Линейная алгебра. Вебинар 2. Урок 3. Практическое задание"
   ]
  },
  {
   "cell_type": "code",
   "execution_count": 1,
   "metadata": {},
   "outputs": [],
   "source": [
    "import numpy as np"
   ]
  },
  {
   "cell_type": "markdown",
   "metadata": {
    "colab_type": "text",
    "id": "APeDlmh8IIL1"
   },
   "source": [
    "Все задания рекомендуется делать вручную, затем проверяя полученные результаты с использованием numpy.\n",
    "\n",
    "__1.__ Установить, какие произведения матриц $AB$ и $BA$ определены, и найти размерности полученных матриц:\n",
    "\n",
    "   а) $A$ — матрица $4\\times 2$, $B$ — матрица $4\\times 2$;\n",
    "    \n",
    "   б) $A$ — матрица $2\\times 5$, $B$ — матрица $5\\times 3$;\n",
    "    \n",
    "   в) $A$ — матрица $8\\times 3$, $B$ — матрица $3\\times 8$;\n",
    "    \n",
    "   г) $A$ — квадратная матрица $4\\times 4$, $B$ — квадратная матрица $4\\times 4$.\n",
    "    \n"
   ]
  },
  {
   "cell_type": "markdown",
   "metadata": {},
   "source": [
    "__Решение:__\n",
    "\n",
    "а) АВ и ВА не определены, т.к. число столбцов первой матрицы не равно числу строк второй в обоих вариантах;<br>\n",
    "б) АВ определено, размерность полученной матрицы $2\\times 3$ ; BA  не определено;<br>\n",
    "в) АВ определено, размерность полученной матрицы $8\\times 8$ ; ВА определено, размерность полученной матрицы $3\\times 3$ ;<br>\n",
    "в) АВ и BA определены, размерность полученных матриц $4\\times 4$."
   ]
  },
  {
   "cell_type": "markdown",
   "metadata": {},
   "source": [
    "__2.__ Найти сумму и произведение матриц $A=\\begin{pmatrix}\n",
    "1 & -2\\\\ \n",
    "3 & 0\n",
    "\\end{pmatrix}$ и $B=\\begin{pmatrix}\n",
    "4 & -1\\\\ \n",
    "0 & 5\n",
    "\\end{pmatrix}.$\n"
   ]
  },
  {
   "cell_type": "markdown",
   "metadata": {},
   "source": [
    "__Решение:__\n",
    "\n",
    "$A + В = \\begin{pmatrix}\n",
    "1 + 4 & -2 - 1\\\\ \n",
    "3 + 0 & 0 + 5\n",
    "\\end{pmatrix}$ = $\\begin{pmatrix}\n",
    "5 & -3\\\\ \n",
    "3 & 5\n",
    "\\end{pmatrix}$;"
   ]
  },
  {
   "cell_type": "markdown",
   "metadata": {},
   "source": [
    "\n",
    "\n",
    "$A \\cdot В = \\begin{pmatrix}\n",
    "1 & -2\\\\ \n",
    "3 & 0\n",
    "\\end{pmatrix} \\cdot \\begin{pmatrix}\n",
    "4 & -1\\\\ \n",
    "0 & 5\n",
    "\\end{pmatrix} = \\begin{pmatrix}\n",
    "1\\cdot4+{(-2)}\\cdot 0 & 1\\cdot{(-1)}+{(-2)}\\cdot5\\\\ \n",
    "3\\cdot4 + 0\\cdot0 & 3\\cdot{(-1)}+ 0\\cdot5\n",
    "\\end{pmatrix}$ = $\\begin{pmatrix}\n",
    "4 & -11\\\\ \n",
    "12 & -3\n",
    "\\end{pmatrix}$;<br>\n"
   ]
  },
  {
   "cell_type": "code",
   "execution_count": 2,
   "metadata": {},
   "outputs": [
    {
     "name": "stdout",
     "output_type": "stream",
     "text": [
      "A+B = \n",
      "[[ 5 -3]\n",
      " [ 3  5]]\n",
      "\n",
      "A*B = \n",
      "[[  4 -11]\n",
      " [ 12  -3]]\n"
     ]
    }
   ],
   "source": [
    "A = np.array([[1, -2],\n",
    "              [3, 0]])\n",
    "\n",
    "B = np.array([[4, -1],\n",
    "              [0, 5]])\n",
    "print(f'A+B = \\n{A+B}\\n')\n",
    "print(f'A*B = \\n{A@B}')"
   ]
  },
  {
   "cell_type": "markdown",
   "metadata": {},
   "source": [
    "\n",
    "__3.__ Из закономерностей сложения и умножения матриц на число можно сделать вывод, что матрицы одного размера образуют линейное пространство. Вычислить линейную комбинацию $3A-2B+4C$ для матриц $A=\\begin{pmatrix}\n",
    "1 & 7\\\\ \n",
    "3 & -6\n",
    "\\end{pmatrix}$, $B=\\begin{pmatrix}\n",
    "0 & 5\\\\ \n",
    "2 & -1\n",
    "\\end{pmatrix}$, $C=\\begin{pmatrix}\n",
    "2 & -4\\\\ \n",
    "1 & 1\n",
    "\\end{pmatrix}.$"
   ]
  },
  {
   "cell_type": "markdown",
   "metadata": {},
   "source": [
    "__Решение:__\n",
    "\n",
    "$3A=\\begin{pmatrix}\n",
    "3 & 21\\\\ \n",
    "9 & -18\n",
    "\\end{pmatrix}$, $-2B=\\begin{pmatrix}\n",
    "0 & -10\\\\ \n",
    "-4 & 2\n",
    "\\end{pmatrix}$, $4C=\\begin{pmatrix}\n",
    "8 & -16\\\\ \n",
    "4 & 4\n",
    "\\end{pmatrix}.$<br>\n",
    "\n",
    "$3A-2B+4C = \\begin{pmatrix}\n",
    "11 & -5\\\\ \n",
    "9 & -12\n",
    "\\end{pmatrix}$"
   ]
  },
  {
   "cell_type": "code",
   "execution_count": 3,
   "metadata": {},
   "outputs": [
    {
     "name": "stdout",
     "output_type": "stream",
     "text": [
      "3A-2B+4C = \n",
      "[[ 11  -5]\n",
      " [  9 -12]]\n",
      "\n"
     ]
    }
   ],
   "source": [
    "A = np.array([[1, 7],\n",
    "              [3, -6]])\n",
    "\n",
    "B = np.array([[0, 5],\n",
    "              [2, -1]])\n",
    "\n",
    "C = np.array([[2, -4],\n",
    "              [1, 1]])\n",
    "\n",
    "print(f'3A-2B+4C = \\n{3*A-2*B+4*C}\\n')"
   ]
  },
  {
   "cell_type": "markdown",
   "metadata": {},
   "source": [
    "    \n",
    "__4.__ Дана матрица $A=\\begin{pmatrix}\n",
    "4 & 1\\\\ \n",
    "5 & -2\\\\ \n",
    "2 & 3\n",
    "\\end{pmatrix}$.\n",
    "Вычислить $AA^{T}$ и $A^{T}A$.\n"
   ]
  },
  {
   "cell_type": "markdown",
   "metadata": {},
   "source": [
    "__Решение:__\n",
    "\n",
    "$A^{T}=\\begin{pmatrix}\n",
    "4 & 5 & 2\\\\ \n",
    "1 & -2 & 3\\\\ \n",
    "\\end{pmatrix}$"
   ]
  },
  {
   "cell_type": "markdown",
   "metadata": {},
   "source": [
    "$AA^{T} = \\begin{pmatrix}\n",
    "4 & 1\\\\ \n",
    "5 & -2\\\\ \n",
    "2 & 3\n",
    "\\end{pmatrix} \\cdot \\begin{pmatrix}\n",
    "4 & 5 & 2\\\\ \n",
    "1 & -2 & 3\\\\ \n",
    "\\end{pmatrix} = \\begin{pmatrix}\n",
    "4\\cdot4 + 1\\cdot1 & 4\\cdot5+1\\cdot{(-2)} & 4\\cdot2 + 1\\cdot3\\\\ \n",
    "5\\cdot4 + (-2)\\cdot1 & 5\\cdot5+(-2)\\cdot{(-2)} & 5\\cdot2 + (-2)\\cdot3\\\\ \n",
    "2\\cdot4 + 3\\cdot1 & 2\\cdot5+3\\cdot{(-2)} & 2\\cdot2 + 3\\cdot3\\\\ \n",
    "\\end{pmatrix} = \\begin{pmatrix}\n",
    "17 & 18 & 11\\\\ \n",
    "18 & 29 &  4\\\\ \n",
    "11 &  4 & 13\\\\ \n",
    "\\end{pmatrix}$"
   ]
  },
  {
   "cell_type": "markdown",
   "metadata": {},
   "source": [
    "$A^{T}A = \\begin{pmatrix}\n",
    "4 & 5 & 2\\\\ \n",
    "1 & -2 & 3\\\\ \n",
    "\\end{pmatrix} \\cdot \\begin{pmatrix}\n",
    "4 & 1\\\\ \n",
    "5 & -2\\\\ \n",
    "2 & 3\n",
    "\\end{pmatrix} = \\begin{pmatrix}\n",
    "4\\cdot4 + 5\\cdot5 + 2\\cdot2 & 4\\cdot1 + 5\\cdot{(-2)} + 2\\cdot3\\\\ \n",
    "1\\cdot4 + (-2)\\cdot5 + 3\\cdot2 & 1\\cdot1+(-2)\\cdot{(-2)} + 3\\cdot3\\\\ \n",
    "\\end{pmatrix} = \\begin{pmatrix}\n",
    "45 & 0\\\\ \n",
    "0 & 14\\\\ \n",
    "\\end{pmatrix}$"
   ]
  },
  {
   "cell_type": "code",
   "execution_count": 4,
   "metadata": {},
   "outputs": [
    {
     "data": {
      "text/plain": [
       "array([[17, 18, 11],\n",
       "       [18, 29,  4],\n",
       "       [11,  4, 13]])"
      ]
     },
     "execution_count": 4,
     "metadata": {},
     "output_type": "execute_result"
    }
   ],
   "source": [
    "A = np.array([[4, 1],\n",
    "              [5, -2],\n",
    "              [2, 3]])\n",
    "\n",
    "A@A.T"
   ]
  },
  {
   "cell_type": "code",
   "execution_count": 5,
   "metadata": {},
   "outputs": [
    {
     "data": {
      "text/plain": [
       "array([[45,  0],\n",
       "       [ 0, 14]])"
      ]
     },
     "execution_count": 5,
     "metadata": {},
     "output_type": "execute_result"
    }
   ],
   "source": [
    "A.T@A"
   ]
  },
  {
   "cell_type": "markdown",
   "metadata": {},
   "source": [
    "\n",
    "__5*.__ Написать на Python функцию для перемножения двух произвольных матриц, не используя NumPy."
   ]
  },
  {
   "cell_type": "code",
   "execution_count": 6,
   "metadata": {},
   "outputs": [
    {
     "name": "stdout",
     "output_type": "stream",
     "text": [
      "(2, 3)\n",
      "(3, 4)\n",
      "[[24, 33, 42, 29], [54, 75, 96, 74]]\n"
     ]
    }
   ],
   "source": [
    "\n",
    "def msize(mx):\n",
    "    sz = [len(mx)]\n",
    "    col = len(mx[0])\n",
    "    for i, el in enumerate(mx):\n",
    "        if len(el) != col:\n",
    "            print(f'В 1й строке матрицы {col} значений, а в {i+1}й - {len(el)}, должно быть одинаково!')\n",
    "            exit()\n",
    "    sz.append(col)\n",
    "    return tuple(sz)\n",
    "\n",
    "\n",
    "def mdot(a, b):\n",
    "    asize = msize(a)\n",
    "    bsize = msize(b)\n",
    "    if asize[1] == bsize[0]:\n",
    "        result = []\n",
    "        bt = list(map(list, zip(*b))) # [[1, 4, 5], [2, 5, 7], [3, 6, 9], [4, 8, 3]]\n",
    "        for s in a:\n",
    "            dotstr = []\n",
    "            for st in bt:                               # [[1, 2, 3], [4, 5, 6]]\n",
    "                dotstr.append(sum([s[i] * st[i] for i in range(len(s))]))\n",
    "            result.append(dotstr)\n",
    "\n",
    "        return result\n",
    "    else:\n",
    "        print(f'Количество столбцов в матрице А ({asize[1]})'\n",
    "              f' не равно количеству строк в В ({bsize[0]}), операция умножения невозможна')\n",
    "\n",
    "\n",
    "A = [[1, 2, 3],\n",
    "     [4, 5, 6]]\n",
    "\n",
    "B = [[1, 2, 3, 4],\n",
    "     [4, 5, 6, 8],\n",
    "     [5, 7, 9, 3]]\n",
    "\n",
    "# [[24, 33, 42, 29],\n",
    "#  [54, 75, 96, 74]]\n",
    "\n",
    "print(msize(A))\n",
    "print(msize(B))\n",
    "# print(msize([[1,2],[3]]))\n",
    "\n",
    "print(mdot(A, B))\n"
   ]
  },
  {
   "cell_type": "code",
   "execution_count": 7,
   "metadata": {},
   "outputs": [
    {
     "data": {
      "text/plain": [
       "array([[1, 2, 3],\n",
       "       [4, 5, 6]])"
      ]
     },
     "execution_count": 7,
     "metadata": {},
     "output_type": "execute_result"
    }
   ],
   "source": [
    "# Проверка:\n",
    "\n",
    "A = np.array(A)\n",
    "A"
   ]
  },
  {
   "cell_type": "code",
   "execution_count": 8,
   "metadata": {},
   "outputs": [
    {
     "data": {
      "text/plain": [
       "array([[1, 2, 3, 4],\n",
       "       [4, 5, 6, 8],\n",
       "       [5, 7, 9, 3]])"
      ]
     },
     "execution_count": 8,
     "metadata": {},
     "output_type": "execute_result"
    }
   ],
   "source": [
    "B = np.array(B)\n",
    "B"
   ]
  },
  {
   "cell_type": "code",
   "execution_count": 9,
   "metadata": {},
   "outputs": [
    {
     "data": {
      "text/plain": [
       "array([[24, 33, 42, 29],\n",
       "       [54, 75, 96, 74]])"
      ]
     },
     "execution_count": 9,
     "metadata": {},
     "output_type": "execute_result"
    }
   ],
   "source": [
    "A@B"
   ]
  },
  {
   "cell_type": "markdown",
   "metadata": {
    "colab_type": "text",
    "id": "NRcOh0gsWtUo"
   },
   "source": [
    "## Линейная алгебра. Вебинар 2. Урок 4. Практическое задание"
   ]
  },
  {
   "cell_type": "markdown",
   "metadata": {
    "colab_type": "text",
    "id": "H3qXQfJ-WtUp"
   },
   "source": [
    "Все задания рекомендуется выполнять вручную, затем проверяя полученные результаты с использованием Numpy.\n",
    "\n",
    "__1.__ Вычислить определитель:\n",
    "\n",
    "   a)\n",
    "\n",
    "$$\\begin{vmatrix}\n",
    "sinx & -cosx\\\\ \n",
    "cosx & sinx\n",
    "\\end{vmatrix};$$\n"
   ]
  },
  {
   "cell_type": "markdown",
   "metadata": {},
   "source": [
    "$$\\begin{vmatrix}\n",
    "sinx & -cosx\\\\ \n",
    "cosx & sinx\n",
    "\\end{vmatrix} = sin^2 x - (- cos^2 x) = 1$$\n"
   ]
  },
  {
   "cell_type": "markdown",
   "metadata": {},
   "source": [
    "$$A_{ij}=(-1)^{i+j}M_{ij}.$$"
   ]
  },
  {
   "cell_type": "markdown",
   "metadata": {},
   "source": [
    "Найдем алгебраические дополнения для каждого элемента:\n",
    "\n",
    "$$A_{11}=(-1)^{2}\\begin{vmatrix}\n",
    "sinx\n",
    "\\end{vmatrix} = sinx,~\n",
    "A_{12}=(-1)^{3}\\begin{vmatrix}\n",
    "cosx\n",
    "\\end{vmatrix} = -cosx,$$\n",
    "$$A_{21}=(-1)^{3}\\begin{vmatrix}\n",
    "-cosx\n",
    "\\end{vmatrix} = cosx,~\n",
    "A_{22}=(-1)^{4}\\begin{vmatrix}\n",
    "sinx\n",
    "\\end{vmatrix} = sinx.$$\n",
    "\n",
    "Полученная матрица из алгебраических дополнений:\n",
    "\n",
    "$$A^{*} = \\begin{pmatrix}\n",
    "sinx & -cosx\\\\ \n",
    "cosx & sinx\n",
    "\\end{pmatrix},~\n",
    "A^{*T} = \\begin{pmatrix}\n",
    "sinx & cosx\\\\ \n",
    "-cosx & sinx\n",
    "\\end{pmatrix}.$$\n",
    "\n",
    "Используя формулу из алгоритма, получим\n",
    "\n",
    "$$A^{-1} = \\frac{1}{1}\\cdot \\begin{pmatrix}\n",
    "sinx & cosx\\\\ \n",
    "-cosx & sinx\n",
    "\\end{pmatrix} = \\begin{pmatrix}\n",
    "sinx & cosx\\\\ \n",
    "-cosx & sinx\n",
    "\\end{pmatrix}.$$\n",
    "\n",
    "$$A^{(-1)} = A^T$$"
   ]
  },
  {
   "cell_type": "markdown",
   "metadata": {},
   "source": [
    "\n",
    "   б)\n",
    "    \n",
    "$$\\begin{vmatrix}\n",
    "4 & 2 & 3\\\\ \n",
    "0 & 5 & 1\\\\ \n",
    "0 & 0 & 9\n",
    "\\end{vmatrix} =4\\cdot5\\cdot9=180.$$\n",
    "    \n"
   ]
  },
  {
   "cell_type": "code",
   "execution_count": 10,
   "metadata": {},
   "outputs": [
    {
     "data": {
      "text/plain": [
       "180.0"
      ]
     },
     "execution_count": 10,
     "metadata": {},
     "output_type": "execute_result"
    }
   ],
   "source": [
    "np.linalg.det(np.array([[4,2,3],\n",
    "                        [0,5,1],\n",
    "                        [0,0,9]\n",
    "                       ]))"
   ]
  },
  {
   "cell_type": "markdown",
   "metadata": {},
   "source": [
    "   в)\n",
    "\n",
    "$$\\begin{vmatrix}\n",
    "1 & 2 & 3\\\\ \n",
    "4 & 5 & 6\\\\ \n",
    "7 & 8 & 9\n",
    "\\end{vmatrix} = \\begin{vmatrix}\n",
    "1 & 2 & 3\\\\ \n",
    "0 & -3 & -6\\\\ \n",
    "0 & -6 & -12\n",
    "\\end{vmatrix} = \\begin{vmatrix}\n",
    "1 & 2 & 3\\\\ \n",
    "0 & -3 & -6\\\\ \n",
    "0 & 0 & 0\n",
    "\\end{vmatrix} = 0.$$\n",
    "\n"
   ]
  },
  {
   "cell_type": "code",
   "execution_count": 12,
   "metadata": {},
   "outputs": [
    {
     "data": {
      "text/plain": [
       "-9.51619735392994e-16"
      ]
     },
     "execution_count": 12,
     "metadata": {},
     "output_type": "execute_result"
    }
   ],
   "source": [
    "np.linalg.det(np.array([[1,2,3],\n",
    "                        [4,5,6],\n",
    "                        [7,8,9]\n",
    "                       ]))"
   ]
  },
  {
   "cell_type": "markdown",
   "metadata": {},
   "source": [
    "__2.__ Определитель матрицы $A$ равен $4$. Найти:\n",
    "\n",
    "   а) $det(A^{2}) = det( A \\cdot A) = det(A) \\cdot det(A) = 16$;\n",
    "    \n",
    "   б) $det(A^{T}) = det(A) = 4$;\n",
    "    \n",
    "   в) $det(2A) = 2 \\cdot det(A) = 8$.\n",
    "   \n"
   ]
  },
  {
   "cell_type": "markdown",
   "metadata": {},
   "source": [
    "__3.__  Доказать, что матрица\n",
    "\n",
    "$$\\begin{pmatrix}\n",
    "-2 & 7 & -3\\\\ \n",
    "4 & -14 & 6\\\\ \n",
    "-3 & 7 & 13\n",
    "\\end{pmatrix}$$\n",
    "   \n",
    "вырожденная.\n"
   ]
  },
  {
   "cell_type": "markdown",
   "metadata": {},
   "source": [
    "Прибавим ко 2й строке первую, умноженную на 2:$$\\begin{vmatrix}\n",
    "-2 & 7 & -3\\\\ \n",
    "4 & -14 & 6\\\\ \n",
    "-3 & 7 & 13\n",
    "\\end{vmatrix} = \\begin{vmatrix}\n",
    "-2 & 7 & -3\\\\ \n",
    "0 & 0 & 0\\\\ \n",
    "-3 & 7 & 13\n",
    "\\end{vmatrix}\n",
    "$$\n",
    "Определитель матрицы с 0 строкой = 0"
   ]
  },
  {
   "cell_type": "code",
   "execution_count": 17,
   "metadata": {},
   "outputs": [
    {
     "data": {
      "text/plain": [
       "0.0"
      ]
     },
     "execution_count": 17,
     "metadata": {},
     "output_type": "execute_result"
    }
   ],
   "source": [
    "np.linalg.det(np.array([[-2,7,-3],\n",
    "                        [4,-14,6],\n",
    "                        [-3,7,13]\n",
    "                       ]))"
   ]
  },
  {
   "cell_type": "markdown",
   "metadata": {},
   "source": [
    "__4.__ Найти ранг матрицы:\n",
    "\n",
    "   а) $\\begin{pmatrix}\n",
    "1 & 2 & 3\\\\ \n",
    "1 & 1 & 1\\\\ \n",
    "2 & 3 & 4\n",
    "\\end{pmatrix};$\n"
   ]
  },
  {
   "cell_type": "markdown",
   "metadata": {},
   "source": [
    "Третью строку отбрасываем, т.к. она равна сумме двух первых. Вычтем из второй строки первую:\n",
    "\n",
    "$\\begin{pmatrix}\n",
    "1 & 2 & 3\\\\ \n",
    "0 & -1 & -2\n",
    "\\end{pmatrix};$\n",
    "\n",
    "Т.о. ранг матрицы равен 2\n"
   ]
  },
  {
   "cell_type": "code",
   "execution_count": 16,
   "metadata": {},
   "outputs": [
    {
     "data": {
      "text/plain": [
       "2"
      ]
     },
     "execution_count": 16,
     "metadata": {},
     "output_type": "execute_result"
    }
   ],
   "source": [
    "np.linalg.matrix_rank([[1,2,3],\n",
    "                       [1,1,1],\n",
    "                       [2,3,4]\n",
    "                       ])"
   ]
  },
  {
   "cell_type": "markdown",
   "metadata": {},
   "source": [
    "   б) $\\begin{pmatrix}\n",
    "0 & 0 & 2 & 1\\\\ \n",
    "0 & 0 & 2 & 2\\\\ \n",
    "0 & 0 & 4 & 3\\\\ \n",
    "2 & 3 & 5 & 6\n",
    "\\end{pmatrix}.$"
   ]
  },
  {
   "cell_type": "markdown",
   "metadata": {},
   "source": [
    "Отбросим 3 строку, т.к. она является суммой двух первых. Отбросим 2 столбец как линейно зависимый от 1го.\n",
    "\n",
    "$\\begin{pmatrix}\n",
    "0 & 2 & 1\\\\ \n",
    "0 & 2 & 2\\\\ \n",
    "2 & 5 & 6\n",
    "\\end{pmatrix};$\n",
    "\n",
    "Прибавим к 1 столбцу третий, помноженный на -1/3:\n",
    "\n",
    "$\\begin{pmatrix}\n",
    "-1/3 & 2 & 1\\\\ \n",
    "-2/3 & 2 & 2\\\\ \n",
    "0 & 5 & 6\n",
    "\\end{pmatrix};$\n",
    "\n",
    "Прибавим ко 2 столбцу третий, помноженный на -5/6:\n",
    "\n",
    "$\\begin{pmatrix}\n",
    "-1/3 & 7/6 & 1\\\\ \n",
    "-2/3 & 2/6 & 2\\\\ \n",
    "0 & 0 & 6\n",
    "\\end{pmatrix};$\n",
    "\n",
    "Прибавим ко 2 строке 1ю , помноженную на -2:\n",
    "\n",
    "$\\begin{pmatrix}\n",
    "-1/3 & 7/6 & 1\\\\ \n",
    "0 & -2 & 0\\\\ \n",
    "0 & 0 & 6\n",
    "\\end{pmatrix};$\n",
    "\n",
    "Итак, ранг матрицы равен 3.\n"
   ]
  },
  {
   "cell_type": "code",
   "execution_count": 18,
   "metadata": {},
   "outputs": [
    {
     "data": {
      "text/plain": [
       "3"
      ]
     },
     "execution_count": 18,
     "metadata": {},
     "output_type": "execute_result"
    }
   ],
   "source": [
    "np.linalg.matrix_rank([[0,0,2,1],\n",
    "                       [0,0,2,2],\n",
    "                       [0,0,4,3],\n",
    "                       [2,3,5,6],\n",
    "                       ])"
   ]
  },
  {
   "cell_type": "code",
   "execution_count": null,
   "metadata": {},
   "outputs": [],
   "source": []
  }
 ],
 "metadata": {
  "kernelspec": {
   "display_name": "Python 3",
   "language": "python",
   "name": "python3"
  },
  "language_info": {
   "codemirror_mode": {
    "name": "ipython",
    "version": 3
   },
   "file_extension": ".py",
   "mimetype": "text/x-python",
   "name": "python",
   "nbconvert_exporter": "python",
   "pygments_lexer": "ipython3",
   "version": "3.7.1"
  }
 },
 "nbformat": 4,
 "nbformat_minor": 2
}
